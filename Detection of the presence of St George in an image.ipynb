{
 "cells": [
  {
   "cell_type": "code",
   "execution_count": 34,
   "metadata": {},
   "outputs": [],
   "source": [
    "import matplotlib.pyplot as plt\n",
    "import numpy as np\n",
    "import PIL\n",
    "import tensorflow as tf\n",
    "import pathlib\n",
    "import os\n",
    "\n",
    "from tensorflow import keras\n",
    "from tensorflow.keras import layers\n",
    "from tensorflow.keras.models import Sequential"
   ]
  },
  {
   "cell_type": "code",
   "execution_count": 30,
   "metadata": {},
   "outputs": [
    {
     "name": "stdout",
     "output_type": "stream",
     "text": [
      "Number of path:  24\n",
      "Number of dirs:  2\n",
      "Number of files:  0\n"
     ]
    }
   ],
   "source": [
    "path, dirs, files = next(os.walk('Dataset/george_test_task'))\n",
    "path_count = len(path)\n",
    "dirs_count = len(dirs)\n",
    "files_count = len(files)\n",
    "print('Number of path: ', path_count)\n",
    "print('Number of dirs: ', dirs_count)\n",
    "print('Number of files: ', files_count)"
   ]
  },
  {
   "cell_type": "code",
   "execution_count": 36,
   "metadata": {},
   "outputs": [
    {
     "name": "stdout",
     "output_type": "stream",
     "text": [
      "Number of george_images:  2682\n"
     ]
    }
   ],
   "source": [
    "path, dirs, files = next(os.walk('Dataset/george_test_task/george'))\n",
    "george_images = len(files)\n",
    "print('Number of george_images: ', george_images)"
   ]
  },
  {
   "cell_type": "code",
   "execution_count": 37,
   "metadata": {},
   "outputs": [
    {
     "name": "stdout",
     "output_type": "stream",
     "text": [
      "Number of george_images:  3367\n"
     ]
    }
   ],
   "source": [
    "path, dirs, files = next(os.walk('Dataset/george_test_task/no_george'))\n",
    "no_george_images = len(files)\n",
    "print('Number of george_images: ', no_george_images)"
   ]
  }
 ],
 "metadata": {
  "kernelspec": {
   "display_name": "Python 3",
   "language": "python",
   "name": "python3"
  },
  "language_info": {
   "codemirror_mode": {
    "name": "ipython",
    "version": 3
   },
   "file_extension": ".py",
   "mimetype": "text/x-python",
   "name": "python",
   "nbconvert_exporter": "python",
   "pygments_lexer": "ipython3",
   "version": "3.11.4"
  },
  "orig_nbformat": 4
 },
 "nbformat": 4,
 "nbformat_minor": 2
}
